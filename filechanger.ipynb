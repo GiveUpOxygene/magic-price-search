{
 "cells": [
  {
   "cell_type": "code",
   "execution_count": 2,
   "metadata": {},
   "outputs": [],
   "source": [
    "import pandas as pd\n",
    "import numpy as np"
   ]
  },
  {
   "cell_type": "markdown",
   "metadata": {},
   "source": [
    "Importation des données"
   ]
  },
  {
   "cell_type": "code",
   "execution_count": 11,
   "metadata": {},
   "outputs": [
    {
     "name": "stderr",
     "output_type": "stream",
     "text": [
      "C:\\Users\\alexandre\\AppData\\Local\\Packages\\PythonSoftwareFoundation.Python.3.9_qbz5n2kfra8p0\\LocalCache\\local-packages\\Python39\\site-packages\\IPython\\core\\interactiveshell.py:3251: DtypeWarning: Columns (10,19,23,26,50,62,70,77) have mixed types.Specify dtype option on import or set low_memory=False.\n",
      "  exec(code_obj, self.user_global_ns, self.user_ns)\n"
     ]
    },
    {
     "name": "stdout",
     "output_type": "stream",
     "text": [
      "   index  id         artist asciiName availability boosterTypes borderColor  \\\n",
      "0      0   1  Adam Paquette       NaN        paper          NaN       black   \n",
      "1      1   2  Adam Paquette       NaN        paper          NaN       black   \n",
      "2      2   3  Adam Paquette       NaN        paper          NaN       black   \n",
      "3      3   4  Adam Paquette       NaN        paper          NaN       black   \n",
      "4      4   5  Adam Paquette       NaN        paper          NaN       black   \n",
      "\n",
      "   cardKingdomEtchedId  cardKingdomFoilId  cardKingdomId  ... supertypes  \\\n",
      "0                  NaN           216615.0       216601.0  ...      Basic   \n",
      "1                  NaN           216614.0       216602.0  ...      Basic   \n",
      "2                  NaN           216613.0       216603.0  ...      Basic   \n",
      "3                  NaN           216612.0       216604.0  ...      Basic   \n",
      "4                  NaN           216611.0       216605.0  ...      Basic   \n",
      "\n",
      "   tcgplayerEtchedProductId tcgplayerProductId             text toughness  \\\n",
      "0                       NaN            80285.0  ({T}: Add {W}.)       NaN   \n",
      "1                       NaN           101548.0  ({T}: Add {U}.)       NaN   \n",
      "2                       NaN            80286.0  ({T}: Add {B}.)       NaN   \n",
      "3                       NaN            80287.0  ({T}: Add {R}.)       NaN   \n",
      "4                       NaN            80288.0  ({T}: Add {G}.)       NaN   \n",
      "\n",
      "                    type types                                  uuid  \\\n",
      "0    Basic Land — Plains  Land  53532290-9194-5066-9318-b9cc09c52d8f   \n",
      "1    Basic Land — Island  Land  4afd42fa-3e78-5e83-8320-dd5d13147038   \n",
      "2     Basic Land — Swamp  Land  3296e05b-7dae-5298-97a1-f33f3564ab88   \n",
      "3  Basic Land — Mountain  Land  83f5d717-4492-5ed7-9211-036b604524ad   \n",
      "4    Basic Land — Forest  Land  ab25e0c6-a0a0-56f7-9b17-efb5797d389a   \n",
      "\n",
      "   variations watermark  \n",
      "0         NaN       NaN  \n",
      "1         NaN       NaN  \n",
      "2         NaN       NaN  \n",
      "3         NaN       NaN  \n",
      "4         NaN       NaN  \n",
      "\n",
      "[5 rows x 89 columns]\n"
     ]
    }
   ],
   "source": [
    "#lecture de cards.csv\n",
    "data = pd.read_csv(\"cards.csv\")\n",
    "print(data.head())"
   ]
  },
  {
   "cell_type": "code",
   "execution_count": 12,
   "metadata": {},
   "outputs": [
    {
     "name": "stdout",
     "output_type": "stream",
     "text": [
      "       index     id asciiName availability boosterTypes borderColor  \\\n",
      "67913  67913  67914       NaN        paper          NaN       black   \n",
      "67914  67914  67915       NaN        paper          NaN       black   \n",
      "67915  67915  67916       NaN        paper          NaN       black   \n",
      "67916  67916  67917       NaN        paper          NaN       black   \n",
      "67917  67917  67918       NaN        paper          NaN       black   \n",
      "\n",
      "       cardKingdomEtchedId  cardKingdomFoilId  cardKingdomId cardParts  ...  \\\n",
      "67913                  NaN                NaN            NaN       NaN  ...   \n",
      "67914                  NaN                NaN            NaN       NaN  ...   \n",
      "67915                  NaN                NaN            NaN       NaN  ...   \n",
      "67916                  NaN                NaN            NaN       NaN  ...   \n",
      "67917                  NaN                NaN            NaN       NaN  ...   \n",
      "\n",
      "       subtypes supertypes tcgplayerEtchedProductId tcgplayerProductId  \\\n",
      "67913       NaN        NaN                      NaN            77318.0   \n",
      "67914       NaN        NaN                      NaN            70905.0   \n",
      "67915       NaN    Ongoing                      NaN            70906.0   \n",
      "67916       NaN        NaN                      NaN            70907.0   \n",
      "67917       NaN    Ongoing                      NaN            70908.0   \n",
      "\n",
      "                                                    text toughness  \\\n",
      "67913  When you set this scheme in motion, the next t...       NaN   \n",
      "67914  When you set this scheme in motion, search you...       NaN   \n",
      "67915  (An ongoing scheme remains face up.)\\nAt the b...       NaN   \n",
      "67916  When you set this scheme in motion, after this...       NaN   \n",
      "67917  (An ongoing scheme remains face up until it's ...       NaN   \n",
      "\n",
      "                 type   types variations  watermark  \n",
      "67913          Scheme  Scheme        NaN        NaN  \n",
      "67914          Scheme  Scheme        NaN        NaN  \n",
      "67915  Ongoing Scheme  Scheme        NaN        NaN  \n",
      "67916          Scheme  Scheme        NaN        NaN  \n",
      "67917  Ongoing Scheme  Scheme        NaN        NaN  \n",
      "\n",
      "[5 rows x 87 columns]\n"
     ]
    }
   ],
   "source": [
    "#suppression des colonnes inutiles\n",
    "data.drop([\"artist\",\"uuid\"], axis=1, inplace=True)\n",
    "print(data.tail())"
   ]
  }
 ],
 "metadata": {
  "interpreter": {
   "hash": "10ff6530a026ea8c67c27d56a4690ba9415efc79cd5846444fda738b37b8399c"
  },
  "kernelspec": {
   "display_name": "Python 3.9.13 64-bit (windows store)",
   "language": "python",
   "name": "python3"
  },
  "language_info": {
   "codemirror_mode": {
    "name": "ipython",
    "version": 3
   },
   "file_extension": ".py",
   "mimetype": "text/x-python",
   "name": "python",
   "nbconvert_exporter": "python",
   "pygments_lexer": "ipython3",
   "version": "3.9.13"
  },
  "orig_nbformat": 4
 },
 "nbformat": 4,
 "nbformat_minor": 2
}
